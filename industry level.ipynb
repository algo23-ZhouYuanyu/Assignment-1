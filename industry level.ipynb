{
 "cells": [
  {
   "cell_type": "code",
   "execution_count": null,
   "id": "8eba7aea-7404-4679-b0a0-f7ee68382dad",
   "metadata": {},
   "outputs": [],
   "source": [
    "import pandas as pd\n",
    "import numpy as np\n",
    "import matplotlib.pyplot as plt\n",
    "import alphalens\n",
    "import warnings\n",
    "warnings.filterwarnings('ignore')"
   ]
  },
  {
   "cell_type": "code",
   "execution_count": null,
   "id": "e6ffdabc-a360-4c47-84a9-a3efb6bd0dc1",
   "metadata": {},
   "outputs": [],
   "source": [
    "position= pd.read_csv('持仓.csv')\n",
    "basic = pd.read_csv('基本信息.csv')\n",
    "nav = pd.read_csv('净值.csv')\n",
    "business_day= pd.read_csv('偏股混合型基金指数.csv') #辅助输入交易日序列\n",
    "stock_industry=pd.read_csv('行业历史映射.csv')"
   ]
  },
  {
   "cell_type": "code",
   "execution_count": null,
   "id": "f9908f4b-aa71-4cbd-93e2-e6e1cf22e54f",
   "metadata": {},
   "outputs": [],
   "source": [
    "#输出需要的交易日序列\n",
    "business_day['date']=business_day['date'].astype('datetime64[ns]')\n",
    "business1=pd.DataFrame(business_day['date'])  #辅助输入交易日序\n",
    "business2=business1[(business1['date']>='2016-01-01')&(business1['date']<='2022-12-31')]"
   ]
  },
  {
   "cell_type": "code",
   "execution_count": null,
   "id": "6d05baba-fbff-42b7-bc4f-881df6f295a4",
   "metadata": {},
   "outputs": [],
   "source": [
    "#筛选出主动偏股型基金\n",
    "basic=basic[(basic['是否初始基金']==1)&(basic['status_o']==101001000)&(basic['grading_flg']=='非分级基金')] #筛选出初始基金、未停盘、非分级基金\n",
    "basic1=basic[basic['investtype2'].isin(['普通股票型基金','偏股混合型基金'])]#筛选出主动偏股型公募基金\n",
    "basic2=basic1[basic1['setupdate']<'2021-01-01']\n",
    "fund=basic2[['fund_code']]\n",
    "fund_list=fund['fund_code'].tolist()"
   ]
  },
  {
   "cell_type": "code",
   "execution_count": null,
   "id": "63107136-f270-4e00-8f7e-d2f291444064",
   "metadata": {},
   "outputs": [],
   "source": [
    "#筛选主动股票基金的净值和行业\n",
    "nav_1=nav.rename(columns={'sid':'fund_code'})\n",
    "nav_2=nav_1[['date','fund_code','adjnav']]\n",
    "adjnav= pd.merge(fund,nav_2,how='inner',on='fund_code')  #筛选主动股票基金的净值和行业\n",
    "adjnav.drop_duplicates(subset=['date','fund_code'],keep='first',inplace=True)\n",
    "adjnav_11=adjnav.reset_index().set_index(['date','fund_code']).unstack()['adjnav']\n",
    "\n",
    "adjnav_final=pd.DataFrame(adjnav_11.columns.values)\n",
    "adjnav_final.columns=['fund_code'] \n",
    "adjnav_list=adjnav_final['fund_code'].values"
   ]
  },
  {
   "cell_type": "code",
   "execution_count": null,
   "id": "72351982-3358-4a0b-a4a3-78529242ee5b",
   "metadata": {},
   "outputs": [],
   "source": [
    "#半年底和年底的全市场股票行业映射\n",
    "stock_industry_1=stock_industry\n",
    "stock_industry['date'] = pd.to_datetime(stock_industry['date'])\n",
    "\n",
    "stock_industry_2=stock_industry_1\n",
    "times=pd.date_range('2009-12-31',periods=27,freq='6M')\n",
    "stock_industry=pd.DataFrame()\n",
    "\n",
    "for i in range(1,len(times)):\n",
    "    stock_industry_3=stock_industry_2[(stock_industry_2['date']>times[i-1])&(stock_industry_2['date']<=times[i])]\n",
    "    stock_industry_4=stock_industry_3.drop_duplicates(subset=['sid'],keep='last')\n",
    "    stock_industry_4['date']=times[i]\n",
    "    stock_industry=pd.concat([stock_industry,stock_industry_4])\n",
    "\n",
    "stock_industry=stock_industry[['date','sid','industry']]"
   ]
  },
  {
   "cell_type": "code",
   "execution_count": null,
   "id": "66cb7452-c151-41b6-bbab-374eaef2c2ae",
   "metadata": {},
   "outputs": [],
   "source": [
    "#半年底和年底的主动偏股型基金持仓股票行业映射\n",
    "position['date'] = pd.to_datetime(position['date'])\n",
    "position_stock_industry=pd.DataFrame()\n",
    "\n",
    "for time in times:\n",
    "    stock_industry_time=stock_industry[stock_industry['date']==time]\n",
    "    position_time=position[position['date']==time] \n",
    "    position_1 =position_time[['fund_code','sid','stock_ratio']]\n",
    "    \n",
    "    position_2=position_1.merge(stock_industry_time,how='left',on='sid')\n",
    "    position_3=position_2[['date','fund_code','sid','stock_ratio','industry']]\n",
    "\n",
    "    position_stock_industry=pd.concat([position_stock_industry,position_3])\n",
    "\n",
    "list=['date','fund_code','sid','stock_ratio','industry']\n",
    "position_stock_industry=position_stock_industry[list]"
   ]
  },
  {
   "cell_type": "code",
   "execution_count": null,
   "id": "aa6178f7-4e52-4ad9-992c-d5eb2df23109",
   "metadata": {},
   "outputs": [],
   "source": [
    "#position_stock_industry['industry'].fillna('其他', inplace=True)\n",
    "position_stock_industry_1=\\\n",
    "position_stock_industry[position_stock_industry['fund_code'].isin(adjnav_list)] #保留下fund_list的基金\n",
    "position_stock_industry_1.drop_duplicates(subset=['date','fund_code'],keep='first',inplace=True)\n",
    "position_stock_industry_2=position_stock_industry_1.set_index(['date','fund_code']).unstack()['industry']    #去重后剩2545只基金"
   ]
  },
  {
   "cell_type": "code",
   "execution_count": null,
   "id": "3a55f8bc-8aae-452f-9ebb-06cb7c2063f2",
   "metadata": {},
   "outputs": [],
   "source": [
    "#半年底和年底的全市场股票行业映射\n",
    "stock_industry_1=stock_industry\n",
    "stock_industry['date'] = pd.to_datetime(stock_industry['date'])\n",
    "\n",
    "stock_industry_2=stock_industry_1\n",
    "times=pd.date_range('2009-12-31',periods=27,freq='6M')\n",
    "stock_industry=pd.DataFrame()\n",
    "\n",
    "for i in range(1,len(times)):\n",
    "    stock_industry_3=stock_industry_2[(stock_industry_2['date']>times[i-1])&(stock_industry_2['date']<=times[i])]\n",
    "    stock_industry_4=stock_industry_3.drop_duplicates(subset=['sid'],keep='last')\n",
    "    stock_industry_4['date']=times[i]\n",
    "    stock_industry=pd.concat([stock_industry,stock_industry_4])\n",
    "\n",
    "stock_industry=stock_industry[['date','sid','industry']]"
   ]
  },
  {
   "cell_type": "code",
   "execution_count": null,
   "id": "cdd4c850-c2e7-4f09-a032-ac3ee7e0b5eb",
   "metadata": {},
   "outputs": [],
   "source": [
    "#输出主动偏股型基金第一重仓行业\n",
    "stock_ratio_sum_1=position_stock_industry_1.groupby(['date','fund_code','industry']).sum('stock_ratio') \n",
    "stock_ratio_sum=stock_ratio_sum_1.reset_index()\n",
    "stock_ratio_max_1=stock_ratio_sum.sort_values(by=['date','fund_code','stock_ratio'],ascending=[True,True,False]).\\\n",
    "groupby(['date','fund_code']).head(1)\n",
    "\n",
    "industry_2022=stock_ratio_max_1[stock_ratio_max_1['date']=='2022-12-31']  #最新一期报告期的行业基金池数量对比\n",
    "industry_2022_1=industry_2022.groupby('industry').count()\n",
    "industry_2022_1=industry_2022_1.sort_values(by='fund_code',ascending=False)"
   ]
  },
  {
   "cell_type": "code",
   "execution_count": null,
   "id": "d8a31149-5320-4ad5-b6b0-d96df5d220e2",
   "metadata": {},
   "outputs": [],
   "source": [
    "#adjnav_list是最终确定的基金\n",
    "stock_ratio_sum_2=stock_ratio_sum.set_index(['date','fund_code'])['industry'].unstack()\n",
    "final_list=stock_ratio_sum_2.columns.values\n",
    "position_stock_industry_4=position_stock_industry_2.stack().reset_index()\n",
    "position_stock_industry_5=position_stock_industry_4[position_stock_industry_4['fund_code'].isin(adjnav_list)]  "
   ]
  },
  {
   "cell_type": "code",
   "execution_count": null,
   "id": "8a046eb5-f502-4c94-bf18-c64f3f93792b",
   "metadata": {},
   "outputs": [],
   "source": [
    "position_stock_industry_5.columns=['date','fund_code','industry']\n",
    "position_stock_industry_6=position_stock_industry_5.set_index(['date','fund_code']).unstack()['industry']  #行业分布\n",
    "target_industry='医药生物'                          #############################################修改行业\n",
    "position_stock_industry_7=position_stock_industry_6==target_industry  #输出行业True的框架"
   ]
  },
  {
   "cell_type": "code",
   "execution_count": null,
   "id": "87d51413-e2a9-47b8-af0c-6173d73b899f",
   "metadata": {},
   "outputs": [],
   "source": [
    "######输出行业True的框架（日度）\n",
    "position_stock_industry_8=position_stock_industry_7.resample('D').ffill()   #把半年的赋值给日度的\n",
    "position_stock_industry_9=position_stock_industry_8.reset_index()\n",
    "position_stock_industry_10=pd.merge(position_stock_industry_9,business2,how='inner',on='date')\n",
    "position_stock_industry_11=position_stock_industry_10.set_index('date')"
   ]
  },
  {
   "cell_type": "code",
   "execution_count": null,
   "id": "e2544f5b-5009-49aa-b6ff-339d70a01ebc",
   "metadata": {},
   "outputs": [],
   "source": [
    "#把净值表变成规定形状\n",
    "adjnav_12=adjnav_11.stack().reset_index()\n",
    "adjnav_12.columns=['date','fund_code','adjnav']\n",
    "adjnav_13=adjnav_12[adjnav_12['fund_code'].isin(adjnav_list)]\n",
    "adjnav_14=adjnav_13.set_index(['date','fund_code']).unstack()['adjnav']\n",
    "\n",
    "adjnav_15=adjnav_14.reset_index()\n",
    "adjnav_15['date']=adjnav_15['date'].astype('datetime64[ns]')\n",
    "adjnav_16=pd.merge(adjnav_15,business2,how='inner',on='date')\n",
    "adjnav_17=adjnav_16.set_index('date')\n",
    "adjnav_18=adjnav_17[position_stock_industry_11]  #把净值套在行业True的框架里"
   ]
  },
  {
   "cell_type": "code",
   "execution_count": null,
   "id": "e1a5d8cd-243b-47fe-ab28-63ed945ffc03",
   "metadata": {},
   "outputs": [],
   "source": [
    "######################################################################################构造factor表\n",
    "max_month=adjnav_18.resample('M').max()  #输出每个月净值的max\n",
    "t=12\n",
    "max_month_pct=(max_month-max_month.rolling(t).mean())/max_month.rolling(t).mean()\n",
    "#max_month_pct=max_month.pct_change()  #构造胜利因子\n",
    "max_day=max_month_pct.resample('D').ffill()\n",
    "max_day=max_day.replace(0,np.nan)\n",
    "max_day_1=max_day.reset_index()\n",
    "max_day_1['date']=max_day_1['date'].astype('datetime64[ns]')\n",
    "max_day_2=pd.merge(max_day_1,business2,how='inner',on='date')\n",
    "max_day_3=max_day_2.set_index('date')\n",
    "factor=max_day_3.stack()"
   ]
  },
  {
   "cell_type": "code",
   "execution_count": null,
   "id": "e0530cc0-de1f-479e-8a43-fa355c515f32",
   "metadata": {},
   "outputs": [],
   "source": [
    "######################################################################################构造price表\n",
    "business3=business2[business2['date']>='2016-02-01']\n",
    "price=adjnav_18.reset_index()\n",
    "price_1=pd.merge(price,business3,how='inner',on='date')\n",
    "price_final=price_1.set_index('date')"
   ]
  },
  {
   "cell_type": "code",
   "execution_count": null,
   "id": "3c9c4e08-51a6-4477-a12f-763ac4905afa",
   "metadata": {},
   "outputs": [],
   "source": [
    "factor_data3= alphalens.utils.get_clean_factor_and_forward_returns(factor,\n",
    "                                                                   price_final,\n",
    "                                                                   groupby=None,\n",
    "                                                                   binning_by_group=False,\n",
    "                                                                   #quantiles=[0,0.2,1],\n",
    "                                                                   quantiles=20,    ###################分层回测\n",
    "                                                                   bins=None,\n",
    "                                                                   periods=(1,),          # 持仓周期\n",
    "                                                                   filter_zscore=5,\n",
    "                                                                   groupby_labels=None,\n",
    "                                                                   max_loss=1,               # 能容忍的最大缺省值百分比\n",
    "                                                                   zero_aware=False,\n",
    "                                                                   cumulative_returns=True)\n",
    "alphalens.tears.create_full_tear_sheet(factor_data3,long_short=False,\n",
    "                           group_neutral=False,\n",
    "                           by_group=False) "
   ]
  },
  {
   "cell_type": "code",
   "execution_count": null,
   "id": "dbc00e01-c6d7-4d0e-93c1-30c7b1869372",
   "metadata": {},
   "outputs": [],
   "source": []
  },
  {
   "cell_type": "code",
   "execution_count": null,
   "id": "493f27b6-e9e4-465b-ae91-7b09ccac0d7e",
   "metadata": {},
   "outputs": [],
   "source": []
  }
 ],
 "metadata": {
  "kernelspec": {
   "display_name": "Python 3 (ipykernel)",
   "language": "python",
   "name": "python3"
  },
  "language_info": {
   "codemirror_mode": {
    "name": "ipython",
    "version": 3
   },
   "file_extension": ".py",
   "mimetype": "text/x-python",
   "name": "python",
   "nbconvert_exporter": "python",
   "pygments_lexer": "ipython3",
   "version": "3.9.13"
  }
 },
 "nbformat": 4,
 "nbformat_minor": 5
}
